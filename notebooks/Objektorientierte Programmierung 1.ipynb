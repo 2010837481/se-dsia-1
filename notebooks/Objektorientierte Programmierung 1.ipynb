{
 "cells": [
  {
   "cell_type": "markdown",
   "metadata": {},
   "source": [
    "# Klassen"
   ]
  },
  {
   "cell_type": "code",
   "execution_count": 3,
   "metadata": {},
   "outputs": [
    {
     "name": "stdout",
     "output_type": "stream",
     "text": [
      "I am driving\n"
     ]
    }
   ],
   "source": [
    "class Vehicle:\n",
    "    def drive(self):\n",
    "        print(\"I am driving\")\n",
    "\n",
    "veh = Vehicle()\n",
    "veh.drive()  "
   ]
  },
  {
   "cell_type": "markdown",
   "metadata": {},
   "source": [
    "## Konstruktor"
   ]
  },
  {
   "cell_type": "code",
   "execution_count": 6,
   "metadata": {},
   "outputs": [
    {
     "name": "stdout",
     "output_type": "stream",
     "text": [
      "Audi A3, Audi A4, Puch Maxi\n"
     ]
    }
   ],
   "source": [
    "class Vehicle:\n",
    "    def __init__(self, name):\n",
    "        self.name = name\n",
    "\n",
    "audi1 = Vehicle(\"Audi A3\")\n",
    "audi2 = Vehicle(\"Audi A4\")\n",
    "puch1 = Vehicle(\"Puch Maxi\")\n",
    "\n",
    "print(\"{}, {}, {}\".format(audi1.name, audi2.name, puch1.name))"
   ]
  },
  {
   "cell_type": "markdown",
   "metadata": {},
   "source": [
    "## Klassenvariable"
   ]
  },
  {
   "cell_type": "code",
   "execution_count": 7,
   "metadata": {},
   "outputs": [
    {
     "name": "stdout",
     "output_type": "stream",
     "text": [
      "Count:  3\n",
      "Vehicles:  Audi BMW Tesla\n"
     ]
    }
   ],
   "source": [
    "class Vehicle:\n",
    "    production_count = 0\n",
    "\n",
    "    def __init__(self, name):\n",
    "        self.name = name\n",
    "        Vehicle.production_count += 1\n",
    "\n",
    "v1 = Vehicle(\"Audi\")\n",
    "v2 = Vehicle(\"BMW\")\n",
    "v3 = Vehicle(\"Tesla\")\n",
    "\n",
    "print(\"Count: \", Vehicle.production_count)     # Count: 3\n",
    "print(\"Vehicles: \", v1.name, v2.name, v3.name) "
   ]
  },
  {
   "cell_type": "markdown",
   "metadata": {},
   "source": [
    "## Private Eigenschaften "
   ]
  },
  {
   "cell_type": "code",
   "execution_count": 9,
   "metadata": {},
   "outputs": [
    {
     "name": "stdout",
     "output_type": "stream",
     "text": [
      "public\n",
      "private\n"
     ]
    }
   ],
   "source": [
    "class Vehicle:\n",
    "    def __init__(self, public_name, private_name):\n",
    "        self.public_name = public_name\n",
    "        self.__private_name = private_name\n",
    "\n",
    "    def print_private_name(self):\n",
    "        print(self.__private_name)\n",
    "\n",
    "v = Vehicle(\"public\", \"private\")\n",
    "\n",
    "print(v.public_name)\n",
    "v.print_private_name() "
   ]
  },
  {
   "cell_type": "markdown",
   "metadata": {},
   "source": [
    "# Objektorientiert vs Prozedural"
   ]
  },
  {
   "cell_type": "code",
   "execution_count": 11,
   "metadata": {},
   "outputs": [
    {
     "name": "stdout",
     "output_type": "stream",
     "text": [
      "{'owner': 'Elon Millionär', 'number': 5671, 'balance': 19000100}\n"
     ]
    }
   ],
   "source": [
    "account_elon = {\n",
    "   \"owner\": \"Elon Millionär\",\n",
    "   \"number\": 5671,\n",
    "   \"balance\": 19000000,\n",
    "}\n",
    "\n",
    "def deposit(account, amount):\n",
    "    account[\"balance\"] += amount\n",
    "\n",
    "def withdraw(account, amount):\n",
    "    account[\"balance\"] -= amount\n",
    "\n",
    "deposit(account_elon, 100)\n",
    "\n",
    "print(account_elon)"
   ]
  },
  {
   "cell_type": "code",
   "execution_count": 13,
   "metadata": {},
   "outputs": [
    {
     "name": "stdout",
     "output_type": "stream",
     "text": [
      "Elon Millionär 5671 19000100\n"
     ]
    }
   ],
   "source": [
    "class Account:\n",
    "    def __init__(self, owner, number, balance):\n",
    "        self.owner = owner\n",
    "        self.number = number\n",
    "        self.balance = balance\n",
    "    \n",
    "    def deposit(self, amount):\n",
    "        self.balance += amount\n",
    "        \n",
    "    def withdraw(self, amount):\n",
    "        self.balance -= amount\n",
    "\n",
    "account_elon = Account(\"Elon Millionär\", 5671, 19000000)\n",
    "account_elon.deposit(100)\n",
    "\n",
    "print(account_elon.owner, account_elon.number, account_elon.balance)"
   ]
  },
  {
   "cell_type": "markdown",
   "metadata": {},
   "source": [
    "# Relationen"
   ]
  },
  {
   "cell_type": "code",
   "execution_count": 15,
   "metadata": {},
   "outputs": [],
   "source": [
    "class Vehicle:\n",
    "    def __init__(self, name):\n",
    "        self.name = name\n",
    "        self.__tires = []\n",
    "\n",
    "    def add_tire(self, tire):\n",
    "        self.__tires.append(tire)\n",
    "\n",
    "class Tire:\n",
    "    def __init__(self, pressure):\n",
    "        self.pressure = pressure\n",
    "\n",
    "vehicle = Vehicle(\"my motorbike\")\n",
    "vehicle.add_tire(Tire(200))\n",
    "vehicle.add_tire(Tire(210))"
   ]
  },
  {
   "cell_type": "markdown",
   "metadata": {},
   "source": [
    "# Vererbung"
   ]
  },
  {
   "cell_type": "code",
   "execution_count": 16,
   "metadata": {},
   "outputs": [
    {
     "name": "stdout",
     "output_type": "stream",
     "text": [
      "strampeln...\n",
      "e-boost\n"
     ]
    }
   ],
   "source": [
    "class Vehicle:\n",
    "    def drive(self):\n",
    "        print(\"drive...\")\n",
    "\n",
    "class Bicycle(Vehicle):\n",
    "    def drive(self):\n",
    "        print(\"strampeln...\")\n",
    "\n",
    "class EBike(Bicycle):\n",
    "    def drive(self):\n",
    "        super().drive()\n",
    "        print(\"e-boost\")\n",
    "\n",
    "ebike = EBike()\n",
    "ebike.drive()"
   ]
  },
  {
   "cell_type": "markdown",
   "metadata": {},
   "source": [
    "# Duck Typing"
   ]
  },
  {
   "cell_type": "code",
   "execution_count": 17,
   "metadata": {},
   "outputs": [
    {
     "name": "stdout",
     "output_type": "stream",
     "text": [
      "Duck is flying\n",
      "Airplane in flying\n"
     ]
    }
   ],
   "source": [
    "class Duck:\n",
    "    def fly(self):\n",
    "        print(\"Duck is flying\")\n",
    "\n",
    "class Airplane:\n",
    "    def fly(self):\n",
    "        print(\"Airplane in flying\")\n",
    "\n",
    "class Client:\n",
    "    def let_it_fly(self, flyable):\n",
    "        flyable.fly()\n",
    "\n",
    "client = Client()\n",
    "client.let_it_fly(Duck())\n",
    "client.let_it_fly(Airplane())"
   ]
  },
  {
   "cell_type": "markdown",
   "metadata": {},
   "source": [
    "# Decorators"
   ]
  },
  {
   "cell_type": "markdown",
   "metadata": {},
   "source": [
    "## @property Decorator"
   ]
  },
  {
   "cell_type": "code",
   "execution_count": 18,
   "metadata": {},
   "outputs": [
    {
     "name": "stdout",
     "output_type": "stream",
     "text": [
      "26\n",
      "78.80000000000001\n"
     ]
    }
   ],
   "source": [
    "class Celsius:\n",
    "    def __init__(self, celsius):\n",
    "        self.__celsius = celsius\n",
    "\n",
    "    @property\n",
    "    def celsius(self):\n",
    "        return self.__celsius\n",
    "\n",
    "    @property\n",
    "    def fahrenheit(self):\n",
    "        return (self.__celsius * 1.8) + 32\n",
    "\n",
    "livingroom = Celsius(26)\n",
    "print(livingroom.celsius)\n",
    "print(livingroom.fahrenheit)"
   ]
  },
  {
   "cell_type": "markdown",
   "metadata": {},
   "source": [
    "## @classmethod Decorator"
   ]
  },
  {
   "cell_type": "code",
   "execution_count": 19,
   "metadata": {},
   "outputs": [
    {
     "name": "stdout",
     "output_type": "stream",
     "text": [
      "3\n"
     ]
    }
   ],
   "source": [
    "class Vehicle:\n",
    "    __production_count = 0\n",
    "\n",
    "    def __init__(self, name):\n",
    "        self.name = name\n",
    "        Vehicle.__production_count += 1\n",
    "\n",
    "    @classmethod\n",
    "    def get_production_count(cls):\n",
    "        return cls.__production_count\n",
    "\n",
    "v1 = Vehicle(\"Audi\")\n",
    "v2 = Vehicle(\"BMW\")\n",
    "v3 = Vehicle(\"Tesla\")\n",
    "\n",
    "print(Vehicle.get_production_count()) "
   ]
  },
  {
   "cell_type": "markdown",
   "metadata": {},
   "source": [
    "## Eigene Decorators"
   ]
  },
  {
   "cell_type": "code",
   "execution_count": 20,
   "metadata": {},
   "outputs": [
    {
     "name": "stdout",
     "output_type": "stream",
     "text": [
      "s t n e d u t s   o l l e h\n"
     ]
    }
   ],
   "source": [
    "def spacing(function):\n",
    "    def inner(name=\"world\"):\n",
    "        return \" \".join([char for char in function(name)])\n",
    "    return inner\n",
    "\n",
    "def reverse(function):\n",
    "    def inner(name=\"world\"):\n",
    "        return \"\".join(reversed(function(name)))\n",
    "    return inner\n",
    "\n",
    "@reverse\n",
    "@spacing\n",
    "def say_hello(name=\"world\"):\n",
    "    return \"hello {}\".format(name)\n",
    "\n",
    "print(say_hello(\"students\"))\n"
   ]
  },
  {
   "cell_type": "code",
   "execution_count": 21,
   "metadata": {},
   "outputs": [
    {
     "name": "stdout",
     "output_type": "stream",
     "text": [
      "h-e-l-l-o-s-t-u-d-e-n-t-s\n"
     ]
    }
   ],
   "source": [
    "def configure_spacing(delimiter=\" \"):\n",
    "    def wrapper(function):\n",
    "        def inner(name=\"world\"):\n",
    "            return delimiter.join([\n",
    "                char for char in function(name) if char != \" \"])\n",
    "        return inner\n",
    "    return wrapper\n",
    "\n",
    "@configure_spacing(\"-\")\n",
    "def say_hello(name=\"world\"):\n",
    "    return \"hello {}\".format(name)\n",
    "\n",
    "print(say_hello(\"students\"))\n"
   ]
  },
  {
   "cell_type": "markdown",
   "metadata": {},
   "source": [
    "# Exceptions"
   ]
  },
  {
   "cell_type": "code",
   "execution_count": 22,
   "metadata": {},
   "outputs": [
    {
     "name": "stdout",
     "output_type": "stream",
     "text": [
      "0\n"
     ]
    }
   ],
   "source": [
    "elements = [2, 3]\n",
    "\n",
    "try:\n",
    "    sum = elements[0] + elements[1] + elements[2]\n",
    "except:\n",
    "    sum = 0\n",
    "\n",
    "print(sum) "
   ]
  },
  {
   "cell_type": "code",
   "execution_count": 23,
   "metadata": {},
   "outputs": [
    {
     "ename": "NameError",
     "evalue": "name 'split_name' is not defined",
     "output_type": "error",
     "traceback": [
      "\u001b[1;31m---------------------------------------------------------------------------\u001b[0m",
      "\u001b[1;31mNameError\u001b[0m                                 Traceback (most recent call last)",
      "\u001b[1;32m<ipython-input-23-6984c17195cd>\u001b[0m in \u001b[0;36m<module>\u001b[1;34m\u001b[0m\n\u001b[0;32m      7\u001b[0m     \u001b[1;32mreturn\u001b[0m \u001b[0mname_parts\u001b[0m\u001b[1;33m\u001b[0m\u001b[1;33m\u001b[0m\u001b[0m\n\u001b[0;32m      8\u001b[0m \u001b[1;33m\u001b[0m\u001b[0m\n\u001b[1;32m----> 9\u001b[1;33m \u001b[0msplit_name\u001b[0m\u001b[1;33m(\u001b[0m\u001b[1;34m\"Alexander van der Bellen\"\u001b[0m\u001b[1;33m)\u001b[0m\u001b[1;33m\u001b[0m\u001b[1;33m\u001b[0m\u001b[0m\n\u001b[0m\u001b[0;32m     10\u001b[0m \u001b[0msplit_name\u001b[0m\u001b[1;33m(\u001b[0m\u001b[1;34m\"Barnaby Marmaduke Aloysius Benjy Cobweb ... Usansky\"\u001b[0m\u001b[1;33m)\u001b[0m\u001b[1;33m\u001b[0m\u001b[1;33m\u001b[0m\u001b[0m\n",
      "\u001b[1;31mNameError\u001b[0m: name 'split_name' is not defined"
     ]
    }
   ],
   "source": [
    "def name_parts(name):\n",
    "    name_parts = name.split()\n",
    "\n",
    "    if len(name_parts) > 4:\n",
    "        raise ValueError(\"names with more than 4 parts are not supported\")\n",
    "\n",
    "    return name_parts\n",
    "\n",
    "split_name(\"Alexander van der Bellen\")\n",
    "split_name(\"Barnaby Marmaduke Aloysius Benjy Cobweb ... Usansky\")  "
   ]
  },
  {
   "cell_type": "markdown",
   "metadata": {},
   "source": [
    "# Assert"
   ]
  },
  {
   "cell_type": "code",
   "execution_count": 25,
   "metadata": {},
   "outputs": [
    {
     "ename": "AssertionError",
     "evalue": "Division by 0 undefined",
     "output_type": "error",
     "traceback": [
      "\u001b[1;31m---------------------------------------------------------------------------\u001b[0m",
      "\u001b[1;31mAssertionError\u001b[0m                            Traceback (most recent call last)",
      "\u001b[1;32m<ipython-input-25-72c89b20991b>\u001b[0m in \u001b[0;36m<module>\u001b[1;34m\u001b[0m\n\u001b[0;32m      3\u001b[0m     \u001b[1;32mreturn\u001b[0m \u001b[0mx\u001b[0m \u001b[1;33m/\u001b[0m \u001b[0my\u001b[0m\u001b[1;33m\u001b[0m\u001b[1;33m\u001b[0m\u001b[0m\n\u001b[0;32m      4\u001b[0m \u001b[1;33m\u001b[0m\u001b[0m\n\u001b[1;32m----> 5\u001b[1;33m \u001b[0mdivide\u001b[0m\u001b[1;33m(\u001b[0m\u001b[1;36m4\u001b[0m\u001b[1;33m,\u001b[0m \u001b[1;36m0\u001b[0m\u001b[1;33m)\u001b[0m\u001b[1;33m\u001b[0m\u001b[1;33m\u001b[0m\u001b[0m\n\u001b[0m\u001b[0;32m      6\u001b[0m \u001b[0mdivide\u001b[0m\u001b[1;33m(\u001b[0m\u001b[1;36m4\u001b[0m\u001b[1;33m,\u001b[0m \u001b[1;36m2\u001b[0m\u001b[1;33m)\u001b[0m\u001b[1;33m\u001b[0m\u001b[1;33m\u001b[0m\u001b[0m\n",
      "\u001b[1;32m<ipython-input-25-72c89b20991b>\u001b[0m in \u001b[0;36mdivide\u001b[1;34m(x, y)\u001b[0m\n\u001b[0;32m      1\u001b[0m \u001b[1;32mdef\u001b[0m \u001b[0mdivide\u001b[0m\u001b[1;33m(\u001b[0m\u001b[0mx\u001b[0m\u001b[1;33m,\u001b[0m \u001b[0my\u001b[0m\u001b[1;33m)\u001b[0m\u001b[1;33m:\u001b[0m\u001b[1;33m\u001b[0m\u001b[1;33m\u001b[0m\u001b[0m\n\u001b[1;32m----> 2\u001b[1;33m     \u001b[1;32massert\u001b[0m \u001b[0my\u001b[0m \u001b[1;33m!=\u001b[0m \u001b[1;36m0\u001b[0m\u001b[1;33m,\u001b[0m \u001b[1;34m\"Division by 0 undefined\"\u001b[0m\u001b[1;33m\u001b[0m\u001b[1;33m\u001b[0m\u001b[0m\n\u001b[0m\u001b[0;32m      3\u001b[0m     \u001b[1;32mreturn\u001b[0m \u001b[0mx\u001b[0m \u001b[1;33m/\u001b[0m \u001b[0my\u001b[0m\u001b[1;33m\u001b[0m\u001b[1;33m\u001b[0m\u001b[0m\n\u001b[0;32m      4\u001b[0m \u001b[1;33m\u001b[0m\u001b[0m\n\u001b[0;32m      5\u001b[0m \u001b[0mdivide\u001b[0m\u001b[1;33m(\u001b[0m\u001b[1;36m4\u001b[0m\u001b[1;33m,\u001b[0m \u001b[1;36m0\u001b[0m\u001b[1;33m)\u001b[0m\u001b[1;33m\u001b[0m\u001b[1;33m\u001b[0m\u001b[0m\n",
      "\u001b[1;31mAssertionError\u001b[0m: Division by 0 undefined"
     ]
    }
   ],
   "source": [
    "def divide(x, y):\n",
    "    assert y != 0, \"Division by 0 undefined\"\n",
    "    return x / y\n",
    "\n",
    "divide(4, 0)\n",
    "divide(4, 2)  "
   ]
  },
  {
   "cell_type": "markdown",
   "metadata": {},
   "source": [
    "# With"
   ]
  },
  {
   "cell_type": "code",
   "execution_count": 28,
   "metadata": {},
   "outputs": [
    {
     "name": "stdout",
     "output_type": "stream",
     "text": [
      "with enter\n",
      "inside with\n",
      "with exit\n"
     ]
    }
   ],
   "source": [
    "class WithExample:\n",
    "    def __enter__(self):\n",
    "        print(\"with enter\")\n",
    "\n",
    "    def __exit__(self, exc_type, exc_val, exc_tb):\n",
    "        print(\"with exit\")\n",
    "\n",
    "with WithExample() as example:\n",
    "    print(\"inside with\")\n"
   ]
  },
  {
   "cell_type": "code",
   "execution_count": null,
   "metadata": {},
   "outputs": [],
   "source": []
  }
 ],
 "metadata": {
  "kernelspec": {
   "display_name": "Python 3",
   "language": "python",
   "name": "python3"
  },
  "language_info": {
   "codemirror_mode": {
    "name": "ipython",
    "version": 3
   },
   "file_extension": ".py",
   "mimetype": "text/x-python",
   "name": "python",
   "nbconvert_exporter": "python",
   "pygments_lexer": "ipython3",
   "version": "3.8.3"
  }
 },
 "nbformat": 4,
 "nbformat_minor": 4
}
