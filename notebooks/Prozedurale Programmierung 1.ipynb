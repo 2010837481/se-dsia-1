{
 "cells": [
  {
   "cell_type": "markdown",
   "metadata": {},
   "source": [
    "# Erstes Programm \"Hello World\""
   ]
  },
  {
   "cell_type": "code",
   "execution_count": 1,
   "metadata": {},
   "outputs": [
    {
     "name": "stdout",
     "output_type": "stream",
     "text": [
      "Hello World\n"
     ]
    }
   ],
   "source": [
    "greeting = \"Hello World\"\n",
    "print(greeting)"
   ]
  },
  {
   "cell_type": "markdown",
   "metadata": {},
   "source": [
    "# Kommentare im Quellcode"
   ]
  },
  {
   "cell_type": "code",
   "execution_count": null,
   "metadata": {},
   "outputs": [],
   "source": [
    "# Python Kommentare:\n",
    "\n",
    "# Kommentar für die ganze Zeile\n",
    "a = 3 # Kommentar am Ende der Zeile"
   ]
  },
  {
   "cell_type": "markdown",
   "metadata": {},
   "source": [
    "# Variablen"
   ]
  },
  {
   "cell_type": "markdown",
   "metadata": {},
   "source": [
    "## Variablennamen\n",
    "\n",
    "- Ein Variablenname darf mit einem alphabetischen Zeichen (a-z, A-Z) oder einem Unterstrich beginnen\n",
    "- Der Variablenname darf ab der zweiten Stelle alphanumerische Zeichen (a-z, A-Z, 0-9) bzw. den Unterstrich enthalten"
   ]
  },
  {
   "cell_type": "code",
   "execution_count": null,
   "metadata": {},
   "outputs": [],
   "source": [
    "_var1 = \"some text\"\n",
    "BlaBla9 = 123\n",
    "Komma_Zahl = 32.32\n",
    "Truthy = True\n",
    "Nothing = None"
   ]
  },
  {
   "cell_type": "markdown",
   "metadata": {},
   "source": [
    "## Reservierte Wörter\n",
    "\n",
    "Reservierte Wörter können nicht als Variablennamen verwendet werden"
   ]
  },
  {
   "cell_type": "code",
   "execution_count": null,
   "metadata": {
    "scrolled": true
   },
   "outputs": [],
   "source": [
    "import keyword\n",
    "print(keyword.kwlist)"
   ]
  },
  {
   "cell_type": "markdown",
   "metadata": {},
   "source": [
    "# Einfache Datentypen"
   ]
  },
  {
   "cell_type": "code",
   "execution_count": null,
   "metadata": {},
   "outputs": [],
   "source": [
    "print(type(123))\n",
    "print(type(1.34))\n",
    "print(type(3j))\n",
    "print(type(True))\n",
    "print(type(\"hello\"))\n",
    "print(type(None))"
   ]
  },
  {
   "cell_type": "markdown",
   "metadata": {},
   "source": [
    "# Datentyp String"
   ]
  },
  {
   "cell_type": "markdown",
   "metadata": {},
   "source": [
    "## Einzeilige und mehrzeilige Strings"
   ]
  },
  {
   "cell_type": "code",
   "execution_count": null,
   "metadata": {},
   "outputs": [],
   "source": [
    "string1 = 'einzeilige Zeichenkette mit einfachen Anführungszeichen'\n",
    "string2 = \"einzeilige Zeichenkette mit doppelten Anführungszeichen\"\n",
    "string3 = '''\n",
    "mehrzeilige\n",
    "zeichen-\n",
    "kette\n",
    "'''\n",
    "string4 = \"\"\"\n",
    "mehrzeilige\n",
    "zeichen-\n",
    "kette\n",
    "\"\"\"\n",
    "\n",
    "print(len(string1))\n",
    "print(len(string2))\n",
    "print(len(string3))\n",
    "print(len(string4))"
   ]
  },
  {
   "cell_type": "markdown",
   "metadata": {},
   "source": [
    "## String Index und Teilstrings"
   ]
  },
  {
   "cell_type": "code",
   "execution_count": null,
   "metadata": {},
   "outputs": [],
   "source": [
    "str = \"ein string\"\n",
    "print(str[4])\n",
    "print(str[-10])\n",
    "print(str[4:7])\n",
    "print(str[4:-3])"
   ]
  },
  {
   "cell_type": "markdown",
   "metadata": {},
   "source": [
    "# Operationen"
   ]
  },
  {
   "cell_type": "markdown",
   "metadata": {},
   "source": [
    "## Arithmetische Operationen"
   ]
  },
  {
   "cell_type": "code",
   "execution_count": null,
   "metadata": {},
   "outputs": [],
   "source": [
    "a = 5\n",
    "b = 4\n",
    "c = -7\n",
    "d = 7\n",
    "\n",
    "print(a + 3)\n",
    "print(b + c)\n",
    "print(a - 3)\n",
    "print(a * a)\n",
    "print(d / 3)\n",
    "print(d % 3)\n",
    "print( d // 3)\n",
    "print(d ** 3)"
   ]
  },
  {
   "cell_type": "markdown",
   "metadata": {},
   "source": [
    "## Ausführungsreihenfolge (PEMDA)"
   ]
  },
  {
   "cell_type": "code",
   "execution_count": null,
   "metadata": {},
   "outputs": [],
   "source": [
    "a =  10 +  20  *  30  / 10  # 70\n",
    "b = (10 +  20) *  30  / 10  # 90\n",
    "c =  10 + (20  *  30) / 10  # 70\n",
    "d = (10 +  20  *  30) / 10  # 61\n",
    "e =  10 +  20  * (30  / 10) # 70\n",
    "print(a, b, c, d, e)"
   ]
  },
  {
   "cell_type": "markdown",
   "metadata": {},
   "source": [
    "## Logische Operationen"
   ]
  },
  {
   "cell_type": "code",
   "execution_count": null,
   "metadata": {},
   "outputs": [],
   "source": [
    "A = True\n",
    "B = True\n",
    "C = False\n",
    "\n",
    "print(not A)\n",
    "print(A and B)\n",
    "print(A and C)\n",
    "print(A or B)\n",
    "print(A or C)\n",
    "print(True and B or not B)"
   ]
  },
  {
   "cell_type": "markdown",
   "metadata": {},
   "source": [
    "## Vergleichsoperationen"
   ]
  },
  {
   "cell_type": "code",
   "execution_count": null,
   "metadata": {},
   "outputs": [],
   "source": [
    "print(2 == 3)\n",
    "print(3 > 5)\n",
    "print(3 < 5)\n",
    "print(2 >= 2)\n",
    "print(5 <= 2)\n",
    "print(1 != 2)\n",
    "print(2 == 2 != 4)\n",
    "print(3 < 5 < 12 > 11)"
   ]
  },
  {
   "cell_type": "markdown",
   "metadata": {},
   "source": [
    "## Zuweisungsoperationen"
   ]
  },
  {
   "cell_type": "code",
   "execution_count": null,
   "metadata": {},
   "outputs": [],
   "source": [
    "a = 3\n",
    "print(a)\n",
    "\n",
    "a = a + 5\n",
    "print(a)\n",
    "\n",
    "a += 5\n",
    "print(a)\n",
    "\n",
    "a -= 2\n",
    "print(a)"
   ]
  },
  {
   "cell_type": "markdown",
   "metadata": {},
   "source": [
    "## Bitweise Operationen"
   ]
  },
  {
   "cell_type": "code",
   "execution_count": null,
   "metadata": {},
   "outputs": [],
   "source": [
    "print(16 >> 2)\n",
    "print(16 << 2)\n",
    "print(15 | 10)\n",
    "print(15 & 10)\n",
    "print(15 ^ 10)"
   ]
  },
  {
   "cell_type": "markdown",
   "metadata": {},
   "source": [
    "## Überlauf bei Ganzzahlen"
   ]
  },
  {
   "cell_type": "code",
   "execution_count": null,
   "metadata": {},
   "outputs": [],
   "source": [
    "# install numpy\n",
    "import sys\n",
    "!{sys.executable} -m pip install numpy\n",
    "import numpy as np"
   ]
  },
  {
   "cell_type": "markdown",
   "metadata": {},
   "source": [
    "### 100 + 157 = 257 (unit8)"
   ]
  },
  {
   "cell_type": "code",
   "execution_count": null,
   "metadata": {},
   "outputs": [],
   "source": [
    "data = np.array([100], dtype='uint8')\n",
    "data[0] += 157\n",
    "print(data[0])"
   ]
  },
  {
   "cell_type": "markdown",
   "metadata": {},
   "source": [
    "### 100 + 28 = 128 (int8)"
   ]
  },
  {
   "cell_type": "code",
   "execution_count": null,
   "metadata": {},
   "outputs": [],
   "source": [
    "data = np.array([100], dtype='int8')\n",
    "data[0] += 28\n",
    "print(data[0])"
   ]
  },
  {
   "cell_type": "markdown",
   "metadata": {},
   "source": [
    "## Wissenschaftliche Notation"
   ]
  },
  {
   "cell_type": "code",
   "execution_count": null,
   "metadata": {},
   "outputs": [],
   "source": [
    "print(\"{:f}\".format(8e6))  # 6 Nullen nach der 8: 8 * 10 ** 6\n",
    "print(\"{:f}\".format(8e-7)) # 6 Nullen nach dem Komma vor der 8: 8 * 10 ** -7\n",
    "\n",
    "print(8*10**6  == 8e6  == 8000000)\n",
    "print(8*10**-7 == 8e-7 == 0.0000008)"
   ]
  },
  {
   "cell_type": "markdown",
   "metadata": {},
   "source": [
    "## Datentyp float (IEEE 754)\n",
    "\n",
    "`0.45 + 0.4 = 0.8500000000000001`"
   ]
  },
  {
   "cell_type": "code",
   "execution_count": null,
   "metadata": {},
   "outputs": [],
   "source": [
    "print(0.45 + 0.4)"
   ]
  },
  {
   "cell_type": "markdown",
   "metadata": {},
   "source": [
    "## Zugehörigkeitsoperation"
   ]
  },
  {
   "cell_type": "code",
   "execution_count": null,
   "metadata": {},
   "outputs": [],
   "source": [
    "print(\"c\"  in \"abcdefg\")\n",
    "print(\"de\" in \"abcdefg\")\n",
    "print(\"ed\" in \"abcdefg\")"
   ]
  },
  {
   "cell_type": "markdown",
   "metadata": {},
   "source": [
    "## Identitätsoperation"
   ]
  },
  {
   "cell_type": "code",
   "execution_count": null,
   "metadata": {},
   "outputs": [],
   "source": [
    "a = \"ab\"\n",
    "b = \"ab\"\n",
    "c = \"\".join([\"a\", \"b\"])\n",
    "\n",
    "print(a is b)\n",
    "print(a is c)\n",
    "print(a == b)\n",
    "print(a == c)\n",
    "\n",
    "print(id(a) == id(b), a is b)\n",
    "print(id(a) == id(c), a is c)"
   ]
  },
  {
   "cell_type": "markdown",
   "metadata": {},
   "source": [
    "# Typkonvertierung"
   ]
  },
  {
   "cell_type": "code",
   "execution_count": null,
   "metadata": {},
   "outputs": [],
   "source": [
    "a = \"10100\"\n",
    "b = \"2.334343\"\n",
    "c = \"no number\"\n",
    "\n",
    "c1 = int(a)               \n",
    "c2 = int(a, 2)            \n",
    "c3 = int(float(b))        \n",
    "c4 = int(c)               \n",
    "c5 = 2 + \" Versuche\"      \n",
    "c6 = str(2) + \" Versuche\""
   ]
  },
  {
   "cell_type": "markdown",
   "metadata": {},
   "source": [
    "# Kontrollstrukturen"
   ]
  },
  {
   "cell_type": "markdown",
   "metadata": {},
   "source": [
    "## IF/ELSE"
   ]
  },
  {
   "cell_type": "code",
   "execution_count": null,
   "metadata": {},
   "outputs": [],
   "source": [
    "guess = int(input(\"Rate die Zahl: \"))\n",
    "\n",
    "if guess == 42:\n",
    "    print(\"Super richtig geraten\")\n",
    "elif guess < 42:\n",
    "    print(\"Leider zu klein\")\n",
    "else:\n",
    "    print(\"Leider zu groß\")"
   ]
  },
  {
   "cell_type": "markdown",
   "metadata": {},
   "source": [
    "## Ternärer Operator"
   ]
  },
  {
   "cell_type": "markdown",
   "metadata": {},
   "source": [
    "### Langform: IF/ELSE"
   ]
  },
  {
   "cell_type": "code",
   "execution_count": null,
   "metadata": {},
   "outputs": [],
   "source": [
    "today = 'FRIDAY'\n",
    "\n",
    "if today == 'SUNDAY':\n",
    "    opening_time = 12\n",
    "else:\n",
    "    opening_time = 9"
   ]
  },
  {
   "cell_type": "markdown",
   "metadata": {},
   "source": [
    "### Kurzform: Ternärer Operator"
   ]
  },
  {
   "cell_type": "code",
   "execution_count": null,
   "metadata": {},
   "outputs": [],
   "source": [
    "opening_time = 12 if today == 'SUNDAY' else 9    "
   ]
  },
  {
   "cell_type": "markdown",
   "metadata": {},
   "source": [
    "## WHILE Schleife"
   ]
  },
  {
   "cell_type": "code",
   "execution_count": null,
   "metadata": {},
   "outputs": [],
   "source": [
    "secret = 42\n",
    "guess = 0\n",
    "\n",
    "while guess != secret:\n",
    "    guess = int(input(\"Rate die Zahl: \"))\n",
    "\n",
    "print(\"Super die Zahl wurde erraten!\")"
   ]
  },
  {
   "cell_type": "markdown",
   "metadata": {},
   "source": [
    "## Schleifensteuerung: continue und break"
   ]
  },
  {
   "cell_type": "code",
   "execution_count": null,
   "metadata": {},
   "outputs": [],
   "source": [
    "secret = 42\n",
    "while True:\n",
    "    guess = int(input(\"Rate die Zahl: \"))\n",
    "    if guess == secret:\n",
    "        break\n",
    "\n",
    "print(\"Super die Zahl wurde erraten!\")"
   ]
  },
  {
   "cell_type": "markdown",
   "metadata": {},
   "source": [
    "## Interpretation von Wahrheitswerten (Booleans) in Python"
   ]
  },
  {
   "cell_type": "code",
   "execution_count": null,
   "metadata": {},
   "outputs": [],
   "source": [
    "if 42:   print(\"42\")         # 42\n",
    "if 0.0:  print(\"0.0\")\n",
    "if 0.01: print(\"0.01\")       # 0.01\n",
    "if \"\":   print(\"Leerstring\")\n",
    "if \"hi\": print(\"hi\")         # hi\n",
    "if None: print(\"None\")\n"
   ]
  },
  {
   "cell_type": "markdown",
   "metadata": {},
   "source": [
    "# Einige built-in Funktionen"
   ]
  },
  {
   "cell_type": "code",
   "execution_count": null,
   "metadata": {},
   "outputs": [],
   "source": [
    "print(len(\"abcdefgh\"))\n",
    "print(min(4, 2, 3, 5))\n",
    "print(max(4, 2, 3, 5))\n",
    "print(round(4.324234))\n",
    "print(abs(-10))\n",
    "print(type(\"ein string\"))"
   ]
  },
  {
   "cell_type": "markdown",
   "metadata": {},
   "source": [
    "# Links\n",
    "\n",
    "- Python 3 Schlüsselwörter: https://docs.python.org/3/reference/lexical_analysis.html#keywords\n",
    "- Liste der built-in Funktionen: https://docs.python.org/3/library/functions.html\n",
    "- Ausführungsreihenfolge und Rang von Operatoren: https://docs.python.org/3/reference/expressions.html#evaluation-order"
   ]
  }
 ],
 "metadata": {
  "kernelspec": {
   "display_name": "Python 3",
   "language": "python",
   "name": "python3"
  },
  "language_info": {
   "codemirror_mode": {
    "name": "ipython",
    "version": 3
   },
   "file_extension": ".py",
   "mimetype": "text/x-python",
   "name": "python",
   "nbconvert_exporter": "python",
   "pygments_lexer": "ipython3",
   "version": "3.8.3"
  }
 },
 "nbformat": 4,
 "nbformat_minor": 4
}
